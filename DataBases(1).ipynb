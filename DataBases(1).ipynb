{
 "cells": [
  {
   "cell_type": "markdown",
   "metadata": {},
   "source": [
    "## Databases\n",
    "\n",
    "**A relational database** organizes data into one or more tables (or \"relations\") of columns and rows, with a unique key identifying each row. A **row** of the table contains data about an object, e.g., a student; the **columns** of the table describe different properties of the corresponding object; they contain attributes, e.g., name, year, specialization. Each column describes a single property of the object and has a fixed datatype. All the rows have the same fields with different values for different objects. Here is a toy example:\n",
    "\n",
    "|Name (string)| Specialization (string)| Year (integer)|\n",
    "| ------------- |-------------:| -----:|\n",
    "|Петя Иванов| филология| 1|\n",
    "|Вася Петров| физика| 2|\n",
    "|Маша Сидорова| биология| 3|\n",
    "\n",
    "In a relational database each table has to have a **primary key** — a field or a combination of fields that uniquely identify each row of the table.\n",
    "\n",
    "*Relational tables can be linked with each other*, which means that the data can be extracted from multiple tables. The tables are linked with each other to minimize the size of a database.\n",
    "\n",
    "There are three types of relationships:\n",
    "* one-to-one\n",
    "* one-to-many\n",
    "* many-to-many\n",
    "\n",
    "The **one-to-one** correspondence presupposes that each attribute of the first table corresponds to a single attribute of the second table and vice versa. The **one-to-many** correspondence presupposes that one attribute of the first table corresponds to several attributes of the second table. The **many-to-many** correspondence presupposes that one attribute of the first table corresponds to several attributes of the second table and vice versa.\n",
    "\n",
    "To work with a database you will need to use a special program, a **Database Management System**, or **DBMS**. Below I list some DBMSs:\n",
    "\n",
    "* SQLite\n",
    "* MySQL\n",
    "* PostgreSQL\n",
    "* MongoDB\n",
    "* ...\n",
    "\n",
    "## SQL\n",
    "\n",
    "Some of the database management systems have SQL in their names. What does SQL stand for?\n",
    "\n",
    "**SQL** *(Structured Query Language)* is a standard language for accessing and manipulating databases.  SQL can execute queries against a database, can retrieve data from a database, can insert records in a database, can update records in a database, can delete records from a database, can create new databases etc.\n",
    "\n",
    "SQL is a very simple language. We will need a small number of commands for the operations with the data (CREATE, DELETE, DROP, SELECT, INSERT, UPDATE) and commands-restrictors for the formulation of more specific queries (WHERE, IN, AND, OR, NOT, BETWEEN, LIKE, LIMIT, OFFSET). Note that in a query, the word order is fixed: first comes \"what\", then \"where\", then \"how\".\n",
    "\n",
    "You have already worked through the interactive tutorial SQLBolt.\n",
    "\n",
    "SELECT exercises\n",
    "\n",
    "* https://sqlbolt.com/lesson/select_queries_introduction - основы (уроки 1-5, 8)\n",
    "* https://sqlbolt.com/lesson/select_queries_with_joins - выбор данных из нескольких таблиц (уроки 6-7)\n",
    "* https://sqlbolt.com/lesson/select_queries_with_expressions - работа с математическими выражениями\n",
    "\n",
    "\n",
    "DML exercises\n",
    "\n",
    "* https://sqlbolt.com/lesson/inserting_rows\n",
    "* https://sqlbolt.com/lesson/updating_rows\n",
    "* https://sqlbolt.com/lesson/deleting_rows\n",
    "\n",
    "Creating and deleting tables\n",
    "\n",
    "* https://sqlbolt.com/lesson/creating_tables (уроки 16-18)\n",
    "\n",
    "\n",
    "## Programs to use when working with databases\n",
    "\n",
    "Database is not a text format, you cannot open it with a text editor and examine its contents. To do so, you need to use a special program designed to work with databases. Below I list some of the options:\n",
    "\n",
    "* [MySQL](https://www.mysql.com/)\n",
    "* [PostgreSQL](https://www.postgresql.org/)\n",
    "* [MongoDB](https://www.mongodb.com/)\n",
    "* [Firebird](https://firebirdsql.org/)\n",
    "\n",
    "[Here](https://blog.capterra.com/free-database-software/) you can find a discussion of the pros and cons of the above options.\n",
    "\n",
    "**DBrowser**: https://sqlitebrowser.org/dl/\n",
    "\n",
    "\n",
    "## Databases and Python\n",
    "\n",
    "To work with databases in python we will be using the [SQLite](https://docs.python.org/3.5/library/sqlite3.html) library. The database files have the `.db` extension."
   ]
  },
  {
   "cell_type": "code",
   "execution_count": 1,
   "metadata": {},
   "outputs": [],
   "source": [
    "import sqlite3\n",
    "\n",
    "# connecting to the database\n",
    "conn = sqlite3.connect('example.db')\n",
    "\n",
    "# creating a cursor object we will be sending our queries to\n",
    "c = conn.cursor()\n",
    "\n",
    "# creating a table\n",
    "c.execute(\"CREATE TABLE IF NOT EXISTS students(name text, major text, year integer)\")\n",
    "\n",
    "# inserting a line\n",
    "c.execute(\"INSERT INTO students VALUES ('Петя Иванов','филология',1), ('Маша Петрова','история',4)\")\n",
    "\n",
    "# commiting the changes\n",
    "conn.commit()\n",
    "\n",
    "# closing the database\n",
    "#conn.close()"
   ]
  },
  {
   "cell_type": "markdown",
   "metadata": {},
   "source": [
    "**Important**: don't forget to create a cursor object, without it you won't be able to send any queries to the database!\n",
    "\n",
    "**Important**: if you changed anything, don't forget to commit the changes, they won't be saved otherwise!\n",
    "\n",
    "**Important**: in your queries don't use string concatenation or formatting that you use in python. This will make your database vulnerable to SQL-injections, code injection techniques, used to attack data-driven applications, in which malicious SQL statements are inserted into an entry field for execution (e.g. to dump the database contents to the attacker). You can read more about it [here](https://habrahabr.ru/post/148151/) or [here](https://en.wikipedia.org/wiki/SQL_injection).\n",
    "\n",
    "![](https://imgs.xkcd.com/comics/exploits_of_a_mom.png)"
   ]
  },
  {
   "cell_type": "code",
   "execution_count": 2,
   "metadata": {},
   "outputs": [
    {
     "name": "stdout",
     "output_type": "stream",
     "text": [
      "('Петя Иванов', 'филология', 1)\n"
     ]
    }
   ],
   "source": [
    "# Don't do this!\n",
    "name = 'Петя'\n",
    "c.execute(\"SELECT * FROM students WHERE name = '%s'\" % name)\n",
    "\n",
    "# This is the right way\n",
    "x = ('Петя Иванов',)\n",
    "c.execute('SELECT * FROM students WHERE name=?', x)\n",
    "print(c.fetchone())"
   ]
  },
  {
   "cell_type": "code",
   "execution_count": 3,
   "metadata": {},
   "outputs": [
    {
     "name": "stdout",
     "output_type": "stream",
     "text": [
      "('Петя Иванов', 'филология', 1)\n",
      "('Маша Петрова', 'история', 4)\n"
     ]
    }
   ],
   "source": [
    "# If the expected result of the query is a number of lines, you can iterate through them\n",
    "\n",
    "for row in c.execute('SELECT * FROM students ORDER BY year'):\n",
    "    print(row)"
   ]
  },
  {
   "cell_type": "code",
   "execution_count": 4,
   "metadata": {},
   "outputs": [],
   "source": [
    "# to insert several variables into the sql-query\n",
    "\n",
    "x = 'Вася Пупкин'\n",
    "y = 'математика'\n",
    "z = 3\n",
    "\n",
    "c.execute('INSERT INTO students VALUES (?, ?, ?)', (x, y, z))\n",
    "conn.commit()"
   ]
  },
  {
   "cell_type": "code",
   "execution_count": 5,
   "metadata": {},
   "outputs": [
    {
     "name": "stdout",
     "output_type": "stream",
     "text": [
      "('Петя Иванов', 'филология', 1)\n",
      "('Вася Пупкин', 'математика', 3)\n",
      "('Маша Петрова', 'история', 4)\n"
     ]
    }
   ],
   "source": [
    "for row in c.execute('SELECT * FROM students ORDER BY year'):\n",
    "    print(row)"
   ]
  },
  {
   "cell_type": "markdown",
   "metadata": {},
   "source": [
    "#### Formatting\n",
    "\n",
    "If you want to insert variables as your rows, use string formatting."
   ]
  },
  {
   "cell_type": "code",
   "execution_count": 7,
   "metadata": {},
   "outputs": [
    {
     "data": {
      "text/plain": [
       "<sqlite3.Cursor at 0x4dd4730>"
      ]
     },
     "execution_count": 7,
     "metadata": {},
     "output_type": "execute_result"
    }
   ],
   "source": [
    "params = ['vowel', 'f1', 'f2']\n",
    "c.execute('CREATE TABLE vowels({}, {}, {})'.format(params[0], params[1], params[2]))"
   ]
  },
  {
   "cell_type": "code",
   "execution_count": 8,
   "metadata": {},
   "outputs": [
    {
     "data": {
      "text/plain": [
       "<sqlite3.Cursor at 0x4dd4730>"
      ]
     },
     "execution_count": 8,
     "metadata": {},
     "output_type": "execute_result"
    }
   ],
   "source": [
    "# как написать длинный запрос посимпатичнее\n",
    "c.execute('''\n",
    "INSERT INTO vowels \n",
    "VALUES \n",
    "('a', 1234.56, 4567.8), \n",
    "('u', 1111.1, 3333.3)'''\n",
    ")"
   ]
  },
  {
   "cell_type": "code",
   "execution_count": 9,
   "metadata": {},
   "outputs": [
    {
     "name": "stdout",
     "output_type": "stream",
     "text": [
      "('a', 1234.56, 4567.8)\n",
      "('u', 1111.1, 3333.3)\n"
     ]
    }
   ],
   "source": [
    "for row in c.execute('SELECT * FROM vowels'):\n",
    "    print(row)"
   ]
  },
  {
   "cell_type": "markdown",
   "metadata": {},
   "source": [
    "#### Cursor functions\n",
    "\n",
    "* **fetchone()** -- fetches the next row of a query result set, returning a single sequence, or None when no more data is available\n",
    "* **fetchall()** -- fetches all (remaining) rows of a query result, returning a list. An empty list is returned when no rows are available\n",
    "* **fetchmany()** -- fetches the next set of rows of a query result, returning a list. An empty list is returned when no more rows are available. The number of rows to fetch per call is specified by the size parameter. If it is not given, the cursor’s arraysize determines the number of rows to be fetched. The method should try to fetch as many rows as indicated by the size parameter. If this is not possible due to the specified number of rows not being available, fewer rows may be returned."
   ]
  },
  {
   "cell_type": "code",
   "execution_count": 35,
   "metadata": {},
   "outputs": [
    {
     "name": "stdout",
     "output_type": "stream",
     "text": [
      "('Петя Иванов', 'филология', 1)\n",
      "('Вася Пупкин', 'математика', 3)\n",
      "('Маша Петрова', 'история', 4)\n"
     ]
    }
   ],
   "source": [
    "# fetching rows one by one\n",
    "# note that in each query fetchone returns the next row\n",
    "c.execute('SELECT * FROM students ORDER BY year')\n",
    "print(c.fetchone())\n",
    "print(c.fetchone())\n",
    "print(c.fetchone())"
   ]
  },
  {
   "cell_type": "code",
   "execution_count": 36,
   "metadata": {},
   "outputs": [
    {
     "name": "stdout",
     "output_type": "stream",
     "text": [
      "[('Петя Иванов', 'филология', 1), ('Вася Пупкин', 'математика', 3)]\n"
     ]
    }
   ],
   "source": [
    "# fetching two rows\n",
    "c.execute('SELECT * FROM students ORDER BY year')\n",
    "print(c.fetchmany(2))"
   ]
  },
  {
   "cell_type": "code",
   "execution_count": 37,
   "metadata": {},
   "outputs": [
    {
     "name": "stdout",
     "output_type": "stream",
     "text": [
      "[('Петя Иванов', 'филология', 1), ('Вася Пупкин', 'математика', 3), ('Маша Петрова', 'история', 4)]\n"
     ]
    }
   ],
   "source": [
    "# fetching all the rows\n",
    "c.execute('SELECT * FROM students ORDER BY year')\n",
    "print(c.fetchall())"
   ]
  },
  {
   "cell_type": "markdown",
   "metadata": {},
   "source": [
    "### Exercise 1\n",
    "\n",
    "The [nanai-vowels.csv](https://github.com/dashapopova/Preprocessing2019/blob/master/nanai-vowels.csv) contains observations about nanai vowels. 7 speakers from two villages were recorded pronouncing different words that had the i, ɪ (encoded as I in the file) and ə (encoded as e in the file) vowels. The file contains information about the first and the second formants. Let's create a database out of the file using `sqlite3` and print the observations where village='Dzhuen', sex='f', sound='i'.\n",
    "\n",
    "A solution -- https://github.com/dashapopova/Preprocessing2019/blob/master/dbexample(1).ipynb"
   ]
  },
  {
   "cell_type": "markdown",
   "metadata": {},
   "source": [
    "### Exercise 2\n",
    "\n",
    "Let's work with `rutul_vowels.csv`"
   ]
  },
  {
   "cell_type": "code",
   "execution_count": 1,
   "metadata": {},
   "outputs": [],
   "source": [
    "import pandas as pd\n",
    "import csv\n",
    "import sqlite3"
   ]
  },
  {
   "cell_type": "code",
   "execution_count": 3,
   "metadata": {},
   "outputs": [],
   "source": [
    "df = pd.read_csv('rutul_vowels.csv', sep=',', encoding='utf-8')"
   ]
  },
  {
   "cell_type": "code",
   "execution_count": 4,
   "metadata": {},
   "outputs": [
    {
     "data": {
      "text/html": [
       "<div>\n",
       "<style scoped>\n",
       "    .dataframe tbody tr th:only-of-type {\n",
       "        vertical-align: middle;\n",
       "    }\n",
       "\n",
       "    .dataframe tbody tr th {\n",
       "        vertical-align: top;\n",
       "    }\n",
       "\n",
       "    .dataframe thead th {\n",
       "        text-align: right;\n",
       "    }\n",
       "</style>\n",
       "<table border=\"1\" class=\"dataframe\">\n",
       "  <thead>\n",
       "    <tr style=\"text-align: right;\">\n",
       "      <th></th>\n",
       "      <th>id</th>\n",
       "      <th>word</th>\n",
       "      <th>translation</th>\n",
       "      <th>vowel</th>\n",
       "      <th>stress</th>\n",
       "      <th>syllable</th>\n",
       "      <th>left_context</th>\n",
       "    </tr>\n",
       "  </thead>\n",
       "  <tbody>\n",
       "    <tr>\n",
       "      <th>0</th>\n",
       "      <td>1</td>\n",
       "      <td>χed</td>\n",
       "      <td>дикая алыча</td>\n",
       "      <td>e</td>\n",
       "      <td>yes</td>\n",
       "      <td>cvc</td>\n",
       "      <td>χ</td>\n",
       "    </tr>\n",
       "    <tr>\n",
       "      <th>1</th>\n",
       "      <td>2</td>\n",
       "      <td>eked</td>\n",
       "      <td>старший</td>\n",
       "      <td>e</td>\n",
       "      <td>no</td>\n",
       "      <td>cv</td>\n",
       "      <td>no</td>\n",
       "    </tr>\n",
       "    <tr>\n",
       "      <th>2</th>\n",
       "      <td>3</td>\n",
       "      <td>ɢina</td>\n",
       "      <td>в Кинe</td>\n",
       "      <td>i</td>\n",
       "      <td>yes</td>\n",
       "      <td>cv</td>\n",
       "      <td>ɢ</td>\n",
       "    </tr>\n",
       "    <tr>\n",
       "      <th>3</th>\n",
       "      <td>4</td>\n",
       "      <td>χuda</td>\n",
       "      <td>в кулаке</td>\n",
       "      <td>u</td>\n",
       "      <td>no</td>\n",
       "      <td>cv</td>\n",
       "      <td>χ</td>\n",
       "    </tr>\n",
       "    <tr>\n",
       "      <th>4</th>\n",
       "      <td>5</td>\n",
       "      <td>ʁuli</td>\n",
       "      <td>в окне</td>\n",
       "      <td>u</td>\n",
       "      <td>no</td>\n",
       "      <td>cv</td>\n",
       "      <td>ʁ</td>\n",
       "    </tr>\n",
       "  </tbody>\n",
       "</table>\n",
       "</div>"
      ],
      "text/plain": [
       "   id  word  translation vowel stress syllable left_context\n",
       "0   1   χed  дикая алыча     e    yes      cvc            χ\n",
       "1   2  eked      старший     e     no       cv           no\n",
       "2   3  ɢina       в Кинe     i    yes       cv            ɢ\n",
       "3   4  χuda     в кулаке     u     no       cv            χ\n",
       "4   5  ʁuli       в окне     u     no       cv            ʁ"
      ]
     },
     "execution_count": 4,
     "metadata": {},
     "output_type": "execute_result"
    }
   ],
   "source": [
    "df.head()"
   ]
  },
  {
   "cell_type": "code",
   "execution_count": 5,
   "metadata": {},
   "outputs": [],
   "source": [
    "con = sqlite3.connect(\"rutul.db\")\n",
    "cur = con.cursor()"
   ]
  },
  {
   "cell_type": "markdown",
   "metadata": {},
   "source": [
    "A more efficient way to do the same: "
   ]
  },
  {
   "cell_type": "code",
   "execution_count": 6,
   "metadata": {},
   "outputs": [],
   "source": [
    "df.to_sql(name='rutul', con=con, if_exists='replace')"
   ]
  },
  {
   "cell_type": "markdown",
   "metadata": {},
   "source": [
    "Let's check that what we have done worked:"
   ]
  },
  {
   "cell_type": "code",
   "execution_count": 7,
   "metadata": {},
   "outputs": [
    {
     "name": "stdout",
     "output_type": "stream",
     "text": [
      "(0, 1, 'χed', 'дикая алыча', 'e', 'yes', 'cvc', 'χ')\n",
      "(1, 2, 'eked', 'старший', 'e', 'no', 'cv', 'no')\n",
      "(2, 3, 'ɢina', 'в Кинe', 'i', 'yes', 'cv', 'ɢ')\n",
      "(3, 4, 'χuda', 'в кулаке', 'u', 'no', 'cv', 'χ')\n",
      "(4, 5, 'ʁuli', 'в окне', 'u', 'no', 'cv', 'ʁ')\n",
      "(5, 6, 'ɢuje', 'в яме', 'u', 'yes', 'cv', 'ɢ')\n",
      "(6, 7, 'qaka', 'отдай назад', 'a', 'yes', 'cv', 'q')\n",
      "(7, 8, 'qiq’a', 'возвращайся', 'i', 'yes', 'cv', 'q')\n",
      "(8, 9, 'χɨd', 'липа', 'ɨ', 'yes', 'cvc', 'χ')\n",
      "(9, 10, 'ʁɨˁbar', 'лягушки', 'ɨˁ', 'no', 'cv', 'ʁ')\n",
      "(10, 11, 'χaˁrad', 'масло', 'aˁ', 'no', 'cv', 'χ')\n",
      "(11, 12, 'itɨd', 'медовый', 'i', 'yes', 'cv', 'no')\n",
      "(12, 13, 'uˁbra', 'мерка для муки', 'uˁ', 'no', 'cv', 'no')\n"
     ]
    }
   ],
   "source": [
    "for row in cur.execute('SELECT * FROM rutul'):\n",
    "    print(row)"
   ]
  },
  {
   "cell_type": "code",
   "execution_count": 8,
   "metadata": {},
   "outputs": [
    {
     "name": "stdout",
     "output_type": "stream",
     "text": [
      "('e', 'дикая алыча', 'cvc')\n",
      "('e', 'старший', 'cv')\n",
      "('i', 'в Кинe', 'cv')\n",
      "('u', 'в кулаке', 'cv')\n",
      "('u', 'в окне', 'cv')\n",
      "('u', 'в яме', 'cv')\n",
      "('a', 'отдай назад', 'cv')\n",
      "('i', 'возвращайся', 'cv')\n",
      "('ɨ', 'липа', 'cvc')\n",
      "('ɨˁ', 'лягушки', 'cv')\n",
      "('aˁ', 'масло', 'cv')\n",
      "('i', 'медовый', 'cv')\n",
      "('uˁ', 'мерка для муки', 'cv')\n"
     ]
    }
   ],
   "source": [
    "import sqlite3\n",
    "import csv\n",
    "con = sqlite3.connect(\"rutul3.db\")\n",
    "cur = con.cursor()\n",
    "cur.execute(\"DROP TABLE IF EXISTS rutul3\")\n",
    "cur.execute(\"CREATE TABLE rutul3 (vowel, translation, syllable);\")  # all the columns names\n",
    "\n",
    "with open('rutul_vowels.csv','r', encoding='utf-8') as fin:\n",
    "    dr = csv.DictReader(fin)  # a comma is the default separator\n",
    "    to_db = [(i['vowel'], i['translation'], i['syllable']) for i in dr]  # put the columns' names again\n",
    "\n",
    "cur.executemany(\"INSERT INTO rutul3 (vowel,translation, syllable) VALUES (?, ?, ?);\", to_db)  # and again, the names of the columns\n",
    "\n",
    "for i in cur.execute(\"SELECT * FROM rutul3\"):\n",
    "    print(i)\n",
    "    \n",
    "con.commit()\n",
    "con.close()"
   ]
  },
  {
   "cell_type": "code",
   "execution_count": 12,
   "metadata": {},
   "outputs": [
    {
     "name": "stdout",
     "output_type": "stream",
     "text": [
      "('10', 'ʁɨˁbar', 'лягушки', 'ɨˁ', 'no', 'cv')\n"
     ]
    }
   ],
   "source": [
    "import sqlite3\n",
    "\n",
    "with open('rutul_vowels.csv', 'r', encoding='utf-8') as f:\n",
    "    f = f.readlines()\n",
    "\n",
    "# connecting to the database\n",
    "conn = sqlite3.connect('rutul2.db')\n",
    "\n",
    "# creating a cursor\n",
    "c = conn.cursor()\n",
    "\n",
    "# creating a table\n",
    "c.execute(\"DROP TABLE IF EXISTS rutul\")\n",
    "c.execute(\"CREATE TABLE IF NOT EXISTS rutul(id,word,translation,vowel,stress,syllable)\")\n",
    "\n",
    "for row in f:\n",
    "    row = row.split(',')\n",
    "    c.execute(\"INSERT INTO rutul VALUES (?, ?, ?, ?, ?, ?)\", (row[0], row[1], row[2], row[3], row[4], row[5]))\n",
    "\n",
    "# saving\n",
    "conn.commit()\n",
    "\n",
    "for i in c.execute(\"SELECT * FROM rutul WHERE vowel='ɨˁ' AND stress='no' AND syllable='cv'\"):\n",
    "    print(i)\n",
    "\n",
    "# closing\n",
    "conn.close()"
   ]
  },
  {
   "cell_type": "markdown",
   "metadata": {},
   "source": [
    "1. Print all the data, where the vowel is unstressed.\n",
    "2. Print all the data, where the vowel is unstressed and there is no left context."
   ]
  },
  {
   "cell_type": "code",
   "execution_count": 17,
   "metadata": {},
   "outputs": [
    {
     "name": "stdout",
     "output_type": "stream",
     "text": [
      "[('2', 'eked', 'старший', 'e', 'no', 'cv'), ('4', 'χuda', 'в кулаке', 'u', 'no', 'cv'), ('5', 'ʁuli', 'в окне', 'u', 'no', 'cv'), ('10', 'ʁɨˁbar', 'лягушки', 'ɨˁ', 'no', 'cv'), ('11', 'χaˁrad', 'масло', 'aˁ', 'no', 'cv'), ('13', 'uˁbra', 'мерка для муки', 'uˁ', 'no', 'cv')]\n"
     ]
    }
   ],
   "source": [
    "c.execute('SELECT * FROM rutul WHERE stress=\"no\"')\n",
    "print(c.fetchall())"
   ]
  },
  {
   "cell_type": "code",
   "execution_count": 19,
   "metadata": {},
   "outputs": [
    {
     "name": "stdout",
     "output_type": "stream",
     "text": [
      "[('13', 'uˁbra', 'мерка для муки', 'uˁ', 'no', 'cv', 'no')]\n"
     ]
    }
   ],
   "source": [
    "import sqlite3\n",
    "\n",
    "with open('rutul_vowels.csv', 'r', encoding='utf-8') as f:\n",
    "    f = f.readlines()\n",
    "\n",
    "# connecting to the database\n",
    "conn = sqlite3.connect('rutul2.db')\n",
    "\n",
    "# creating a cursor\n",
    "c = conn.cursor()\n",
    "\n",
    "# creating a table\n",
    "c.execute(\"DROP TABLE IF EXISTS rutul\")\n",
    "c.execute(\"CREATE TABLE IF NOT EXISTS rutul(id,word,translation,vowel,stress,syllable, left_context)\")\n",
    "\n",
    "for row in f:\n",
    "    row = row.split(',')\n",
    "    c.execute(\"INSERT INTO rutul VALUES (?, ?, ?, ?, ?, ?, ?)\", (row[0], row[1], row[2], row[3], row[4], row[5], row[6]))\n",
    "\n",
    "# saving\n",
    "conn.commit()\n",
    "\n",
    "c.execute('SELECT * FROM rutul WHERE stress=\"no\" AND left_context=\"no\"')\n",
    "print(c.fetchall())\n",
    "\n",
    "# closing\n",
    "conn.close()"
   ]
  },
  {
   "cell_type": "code",
   "execution_count": null,
   "metadata": {},
   "outputs": [],
   "source": [
    "# Don't forget!\n",
    "conn.close()"
   ]
  }
 ],
 "metadata": {
  "kernelspec": {
   "display_name": "Python 3",
   "language": "python",
   "name": "python3"
  },
  "language_info": {
   "codemirror_mode": {
    "name": "ipython",
    "version": 3
   },
   "file_extension": ".py",
   "mimetype": "text/x-python",
   "name": "python",
   "nbconvert_exporter": "python",
   "pygments_lexer": "ipython3",
   "version": "3.6.5"
  }
 },
 "nbformat": 4,
 "nbformat_minor": 1
}
